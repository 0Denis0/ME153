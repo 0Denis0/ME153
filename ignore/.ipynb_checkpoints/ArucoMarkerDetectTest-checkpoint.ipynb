{
 "cells": [
  {
   "cell_type": "code",
   "execution_count": 3,
   "id": "76d955b6-d799-4cdb-a82c-d7f4a275d3dd",
   "metadata": {
    "tags": []
   },
   "outputs": [
    {
     "name": "stdout",
     "output_type": "stream",
     "text": [
      "Error: Unable to load the image.\n"
     ]
    }
   ],
   "source": [
    "import cv2\n",
    "import numpy as np\n",
    "import matplotlib.pyplot as plt\n",
    "import matplotlib.patches as patches\n",
    "from PIL import Image\n",
    "import cairosvg\n",
    "\n",
    "# Path to the SVG image\n",
    "aruco_marker_svg_path = \"aruco-153.svg\"\n",
    "# Path to save the PNG image\n",
    "aruco_marker_png_path = \"aruco-153.png\"\n",
    "\n",
    "# Convert SVG to PNG\n",
    "cairosvg.svg2png(url=aruco_marker_svg_path, write_to=aruco_marker_png_path)\n",
    "\n",
    "# Load the ARuco marker image using PIL\n",
    "aruco_marker_pil = Image.open(aruco_marker_png_path)\n",
    "\n",
    "# Convert the image to numpy array for OpenCV processing\n",
    "aruco_marker_cv2 = np.array(aruco_marker_pil)\n",
    "\n",
    "# Convert the ARuco marker image to grayscale\n",
    "aruco_marker_gray = cv2.cvtColor(aruco_marker_cv2, cv2.COLOR_RGB2GRAY)\n",
    "\n",
    "# Detect edges in the ARuco marker image\n",
    "edges = cv2.Canny(aruco_marker_gray, 50, 150)\n",
    "\n",
    "# Find contours in the edge-detected image\n",
    "contours, _ = cv2.findContours(edges, cv2.RETR_EXTERNAL, cv2.CHAIN_APPROX_SIMPLE)\n",
    "\n",
    "# Get the bounding box of the ARuco marker\n",
    "x, y, w, h = cv2.boundingRect(contours[0])\n",
    "\n",
    "# Plot the ARuco marker with bounding box overlay\n",
    "fig, ax = plt.subplots(figsize=(6, 6))\n",
    "ax.imshow(aruco_marker_gray, cmap='gray')\n",
    "ax.add_patch(patches.Rectangle((x, y), w, h, edgecolor='r', facecolor='none', linewidth=2))\n",
    "ax.set_title('ARuco Marker with Bounding Box')\n",
    "ax.axis('off')\n",
    "\n",
    "# Show the plot\n",
    "plt.show()\n"
   ]
  },
  {
   "cell_type": "code",
   "execution_count": 6,
   "id": "4cc3d241-b5f4-4165-9842-f8cb60979879",
   "metadata": {
    "tags": []
   },
   "outputs": [
    {
     "name": "stdout",
     "output_type": "stream",
     "text": [
      "Collecting cairosvg\n",
      "  Downloading CairoSVG-2.7.1-py3-none-any.whl (43 kB)\n",
      "     -------------------------------------- 43.2/43.2 kB 264.0 kB/s eta 0:00:00\n",
      "Collecting cairocffi\n",
      "  Downloading cairocffi-1.7.0-py3-none-any.whl (75 kB)\n",
      "     -------------------------------------- 75.4/75.4 kB 465.3 kB/s eta 0:00:00\n",
      "Collecting cssselect2\n",
      "  Using cached cssselect2-0.7.0-py3-none-any.whl (15 kB)\n",
      "Requirement already satisfied: pillow in c:\\users\\super\\anaconda3\\lib\\site-packages (from cairosvg) (10.0.1)\n",
      "Requirement already satisfied: defusedxml in c:\\users\\super\\anaconda3\\lib\\site-packages (from cairosvg) (0.7.1)\n",
      "Requirement already satisfied: tinycss2 in c:\\users\\super\\anaconda3\\lib\\site-packages (from cairosvg) (1.2.1)\n",
      "Requirement already satisfied: cffi>=1.1.0 in c:\\users\\super\\anaconda3\\lib\\site-packages (from cairocffi->cairosvg) (1.15.1)\n",
      "Requirement already satisfied: webencodings in c:\\users\\super\\anaconda3\\lib\\site-packages (from cssselect2->cairosvg) (0.5.1)\n",
      "Requirement already satisfied: pycparser in c:\\users\\super\\anaconda3\\lib\\site-packages (from cffi>=1.1.0->cairocffi->cairosvg) (2.21)\n",
      "Installing collected packages: cssselect2, cairocffi, cairosvg\n",
      "Successfully installed cairocffi-1.7.0 cairosvg-2.7.1 cssselect2-0.7.0\n",
      "Note: you may need to restart the kernel to use updated packages.\n"
     ]
    },
    {
     "name": "stderr",
     "output_type": "stream",
     "text": [
      "WARNING: Ignoring invalid distribution -orch (c:\\users\\super\\anaconda3\\lib\\site-packages)\n",
      "WARNING: Ignoring invalid distribution -orch (c:\\users\\super\\anaconda3\\lib\\site-packages)\n",
      "WARNING: Ignoring invalid distribution -orch (c:\\users\\super\\anaconda3\\lib\\site-packages)\n",
      "WARNING: Ignoring invalid distribution -orch (c:\\users\\super\\anaconda3\\lib\\site-packages)\n",
      "WARNING: Ignoring invalid distribution -orch (c:\\users\\super\\anaconda3\\lib\\site-packages)\n",
      "WARNING: Ignoring invalid distribution -orch (c:\\users\\super\\anaconda3\\lib\\site-packages)\n",
      "WARNING: Ignoring invalid distribution -orch (c:\\users\\super\\anaconda3\\lib\\site-packages)\n",
      "WARNING: Ignoring invalid distribution -orch (c:\\users\\super\\anaconda3\\lib\\site-packages)\n",
      "WARNING: Ignoring invalid distribution -orch (c:\\users\\super\\anaconda3\\lib\\site-packages)\n"
     ]
    }
   ],
   "source": [
    "pip install cairosvg"
   ]
  }
 ],
 "metadata": {
  "kernelspec": {
   "display_name": "Python 3 (ipykernel)",
   "language": "python",
   "name": "python3"
  },
  "language_info": {
   "codemirror_mode": {
    "name": "ipython",
    "version": 3
   },
   "file_extension": ".py",
   "mimetype": "text/x-python",
   "name": "python",
   "nbconvert_exporter": "python",
   "pygments_lexer": "ipython3",
   "version": "3.10.13"
  }
 },
 "nbformat": 4,
 "nbformat_minor": 5
}
