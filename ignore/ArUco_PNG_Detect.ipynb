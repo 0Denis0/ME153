{
 "cells": [
  {
   "cell_type": "code",
   "execution_count": 1,
   "id": "6047b646-6a1a-4bd8-a6d9-0562804a89b6",
   "metadata": {
    "tags": []
   },
   "outputs": [],
   "source": [
    "import argparse\n",
    "import imutils\n",
    "import cv2\n",
    "import sys"
   ]
  },
  {
   "cell_type": "code",
   "execution_count": 2,
   "id": "63ff08af-c01e-443d-b16a-5061c4ab910e",
   "metadata": {
    "scrolled": true,
    "tags": []
   },
   "outputs": [
    {
     "name": "stdout",
     "output_type": "stream",
     "text": [
      "[INFO] loading image...\n",
      "[INFO] detecting 'Aruco Original' tags...\n"
     ]
    },
    {
     "ename": "AttributeError",
     "evalue": "module 'cv2.aruco' has no attribute 'DetectorParameters'",
     "output_type": "error",
     "traceback": [
      "\u001b[1;31m---------------------------------------------------------------------------\u001b[0m",
      "\u001b[1;31mAttributeError\u001b[0m                            Traceback (most recent call last)",
      "Cell \u001b[1;32mIn[2], line 12\u001b[0m\n\u001b[0;32m     10\u001b[0m \u001b[38;5;28mprint\u001b[39m(\u001b[38;5;124m\"\u001b[39m\u001b[38;5;124m[INFO] detecting \u001b[39m\u001b[38;5;124m'\u001b[39m\u001b[38;5;132;01m{}\u001b[39;00m\u001b[38;5;124m'\u001b[39m\u001b[38;5;124m tags...\u001b[39m\u001b[38;5;124m\"\u001b[39m\u001b[38;5;241m.\u001b[39mformat(\u001b[38;5;124m\"\u001b[39m\u001b[38;5;124mAruco Original\u001b[39m\u001b[38;5;124m\"\u001b[39m))\n\u001b[0;32m     11\u001b[0m arucoDict \u001b[38;5;241m=\u001b[39m cv2\u001b[38;5;241m.\u001b[39maruco\u001b[38;5;241m.\u001b[39mgetPredefinedDictionary(cv2\u001b[38;5;241m.\u001b[39maruco\u001b[38;5;241m.\u001b[39mDICT_ARUCO_ORIGINAL)\n\u001b[1;32m---> 12\u001b[0m arucoParams \u001b[38;5;241m=\u001b[39m \u001b[43mcv2\u001b[49m\u001b[38;5;241;43m.\u001b[39;49m\u001b[43maruco\u001b[49m\u001b[38;5;241;43m.\u001b[39;49m\u001b[43mDetectorParameters\u001b[49m()\n\u001b[0;32m     13\u001b[0m detector \u001b[38;5;241m=\u001b[39m cv2\u001b[38;5;241m.\u001b[39maruco\u001b[38;5;241m.\u001b[39mArucoDetector(arucoDict, arucoParams)\n\u001b[0;32m     15\u001b[0m (corners, ids, rejected) \u001b[38;5;241m=\u001b[39m detector\u001b[38;5;241m.\u001b[39mdetectMarkers(image)\n",
      "\u001b[1;31mAttributeError\u001b[0m: module 'cv2.aruco' has no attribute 'DetectorParameters'"
     ]
    }
   ],
   "source": [
    "# load the input image from disk and resize it\n",
    "print(\"[INFO] loading image...\")\n",
    "image = cv2.imread(\"aruco-153.png\")\n",
    "image = imutils.resize(image, width=600)\n",
    "# verify that the supplied ArUCo tag exists and is supported by\n",
    "# OpenCV\n",
    "\n",
    "# load the ArUCo dictionary, grab the ArUCo parameters, and detect\n",
    "# the markers\n",
    "print(\"[INFO] detecting '{}' tags...\".format(\"Aruco Original\"))\n",
    "arucoDict = cv2.aruco.getPredefinedDictionary(cv2.aruco.DICT_ARUCO_ORIGINAL)\n",
    "arucoParams = cv2.aruco.DetectorParameters()\n",
    "detector = cv2.aruco.ArucoDetector(arucoDict, arucoParams)\n",
    "\n",
    "(corners, ids, rejected) = detector.detectMarkers(image)"
   ]
  },
  {
   "cell_type": "code",
   "execution_count": null,
   "id": "a683b6d1-6803-4268-b54d-7451f51b6560",
   "metadata": {
    "tags": []
   },
   "outputs": [],
   "source": [
    "if len(corners) > 0:\n",
    "\t# flatten the ArUco IDs list\n",
    "\tids = ids.flatten()\n",
    "\t# loop over the detected ArUCo corners\n",
    "\tfor (markerCorner, markerID) in zip(corners, ids):\n",
    "\t\t# extract the marker corners (which are always returned in\n",
    "\t\t# top-left, top-right, bottom-right, and bottom-left order)\n",
    "\t\tcorners = markerCorner.reshape((4, 2))\n",
    "\t\t(topLeft, topRight, bottomRight, bottomLeft) = corners\n",
    "\t\t# convert each of the (x, y)-coordinate pairs to integers\n",
    "\t\ttopRight = (int(topRight[0]), int(topRight[1]))\n",
    "\t\tbottomRight = (int(bottomRight[0]), int(bottomRight[1]))\n",
    "\t\tbottomLeft = (int(bottomLeft[0]), int(bottomLeft[1]))\n",
    "\t\ttopLeft = (int(topLeft[0]), int(topLeft[1]))"
   ]
  },
  {
   "cell_type": "code",
   "execution_count": null,
   "id": "9c58637c-ad2d-4f49-b1af-e139b011fff1",
   "metadata": {
    "tags": []
   },
   "outputs": [],
   "source": [
    "# draw the bounding box of the ArUCo detection\n",
    "cv2.line(image, topLeft, topRight, (0, 255, 0), 2)\n",
    "cv2.line(image, topRight, bottomRight, (0, 255, 0), 2)\n",
    "cv2.line(image, bottomRight, bottomLeft, (0, 255, 0), 2)\n",
    "cv2.line(image, bottomLeft, topLeft, (0, 255, 0), 2)\n",
    "# compute and draw the center (x, y)-coordinates of the ArUco\n",
    "# marker\n",
    "cX = int((topLeft[0] + bottomRight[0]) / 2.0)\n",
    "cY = int((topLeft[1] + bottomRight[1]) / 2.0)\n",
    "cv2.circle(image, (cX, cY), 4, (0, 0, 255), -1)\n",
    "# draw the ArUco marker ID on the image\n",
    "cv2.putText(image, str(markerID),\n",
    "    (topLeft[0], topLeft[1] - 15), cv2.FONT_HERSHEY_SIMPLEX,\n",
    "    0.5, (0, 255, 0), 2)\n",
    "print(\"[INFO] ArUco marker ID: {}\".format(markerID))\n",
    "# show the output image\n",
    "cv2.imshow(\"Image\", image)\n",
    "cv2.waitKey(0)"
   ]
  },
  {
   "cell_type": "code",
   "execution_count": 3,
   "id": "582181d0-b8a7-48d8-877b-ef65e96c006a",
   "metadata": {
    "tags": []
   },
   "outputs": [],
   "source": [
    "cv2.imshow(\"Image\", image)"
   ]
  },
  {
   "cell_type": "code",
   "execution_count": 4,
   "id": "a5e2ca75-df3f-421d-9657-c9954c08e30d",
   "metadata": {
    "tags": []
   },
   "outputs": [
    {
     "ename": "NameError",
     "evalue": "name 'corners' is not defined",
     "output_type": "error",
     "traceback": [
      "\u001b[1;31m---------------------------------------------------------------------------\u001b[0m",
      "\u001b[1;31mNameError\u001b[0m                                 Traceback (most recent call last)",
      "Cell \u001b[1;32mIn[4], line 1\u001b[0m\n\u001b[1;32m----> 1\u001b[0m \u001b[43mcorners\u001b[49m\n",
      "\u001b[1;31mNameError\u001b[0m: name 'corners' is not defined"
     ]
    }
   ],
   "source": [
    "corners"
   ]
  }
 ],
 "metadata": {
  "kernelspec": {
   "display_name": "Python 3 (ipykernel)",
   "language": "python",
   "name": "python3"
  },
  "language_info": {
   "codemirror_mode": {
    "name": "ipython",
    "version": 3
   },
   "file_extension": ".py",
   "mimetype": "text/x-python",
   "name": "python",
   "nbconvert_exporter": "python",
   "pygments_lexer": "ipython3",
   "version": "3.10.13"
  }
 },
 "nbformat": 4,
 "nbformat_minor": 5
}
