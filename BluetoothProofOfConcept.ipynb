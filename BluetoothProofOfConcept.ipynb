{
 "cells": [
  {
   "cell_type": "code",
   "execution_count": 1,
   "id": "32304bc3-2e0a-40a5-a7b6-e1233b01f2ea",
   "metadata": {},
   "outputs": [],
   "source": [
    "from pyfirmata import Arduino\n",
    "import tkinter as tk"
   ]
  },
  {
   "cell_type": "code",
   "execution_count": null,
   "id": "cf2cf81f-4597-4173-861c-eb5817e03b3d",
   "metadata": {},
   "outputs": [],
   "source": [
    "board = Arduino('COM10')\n",
    "pin_11 = board.get_pin('d:11:o')"
   ]
  },
  {
   "cell_type": "code",
   "execution_count": 9,
   "id": "da72d2dc-3331-4ac9-a44e-eb5f00166b83",
   "metadata": {},
   "outputs": [],
   "source": [
    "LED_on = False\n",
    "def toggleLED():\n",
    "    global LED_on\n",
    "    pin_11.write(int(LED_on))\n",
    "    LED_on = not LED_on"
   ]
  },
  {
   "cell_type": "code",
   "execution_count": 11,
   "id": "5fc126f6-91b7-474b-95e1-512d88297505",
   "metadata": {},
   "outputs": [],
   "source": [
    "window = tk.Tk()\n",
    "window.config(background = 'white')\n",
    "window.title('Bluetooth Test')\n",
    "\n",
    "button = tk.Button(window, text = 'Toggle', font = ('Arial', 40), command = lambda:toggleLED())\n",
    "button.place(x = 50, y = 50)\n",
    "window.mainloop()"
   ]
  }
 ],
 "metadata": {
  "kernelspec": {
   "display_name": "Python 3 (ipykernel)",
   "language": "python",
   "name": "python3"
  },
  "language_info": {
   "codemirror_mode": {
    "name": "ipython",
    "version": 3
   },
   "file_extension": ".py",
   "mimetype": "text/x-python",
   "name": "python",
   "nbconvert_exporter": "python",
   "pygments_lexer": "ipython3",
   "version": "3.9.19"
  }
 },
 "nbformat": 4,
 "nbformat_minor": 5
}
