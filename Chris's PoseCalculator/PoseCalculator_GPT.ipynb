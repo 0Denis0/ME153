{
 "cells": [
  {
   "cell_type": "markdown",
   "id": "21566e8d-ca42-4fba-bb8a-7cfd7a715373",
   "metadata": {},
   "source": [
    "# Pose Calculation of Robot with Aruco markers and Computer Vision using ChatGPT"
   ]
  },
  {
   "cell_type": "markdown",
   "id": "9d1d832b-473b-4a5f-992d-7e50175cb308",
   "metadata": {
    "tags": []
   },
   "source": [
    "### Prompt into ChatGPT"
   ]
  },
  {
   "cell_type": "raw",
   "id": "d92bf8d7-01b8-4e71-8202-e55c969d3074",
   "metadata": {},
   "source": [
    "Write me a python function that using the OpenCV computer vision library (cv2) to locate an aruco marker relative to two unmoving aruco markers. Two aruco markers will not move and serve as defining the top left and bottom right corners of a bounding box. A third aruco marker will be attached to a robot that moves inside the bounding box (called the Robot's aruco marker). The goal of the function is to return the (x, y) position relative to the top left aruco marker and (theta) angle with respect to the horizontal. Assume the two corner aruco markers are positioned parallel to horizontal. A camera can give the input to this method an image and assume the image will have three aruco markers in them.\n",
    "Return the (x,y) position of the top left aruco marker as a tuple, (x,y) position of the bottom right aruco marker as a tuple, and the (x, y, theta) position and angle of the robot's aruco marker as a tuple."
   ]
  },
  {
   "cell_type": "raw",
   "id": "95995da6-5116-41ea-a9fd-2c967d0853ea",
   "metadata": {},
   "source": [
    "Explanation:\n",
    "find_aruco_markers: This function detects ArUco markers in the given image using the OpenCV ArUco module. It returns the corners and ids of detected markers.\n",
    "\n",
    "calculate_robot_position: This function calculates the position and orientation of the robot's marker relative to the top left marker.\n",
    "\n",
    "It identifies the specific markers based on their ids.\n",
    "Computes the center points of the top-left, bottom-right, and robot markers.\n",
    "Calculates the position of the robot relative to the top-left marker.\n",
    "Calculates the orientation angle (theta) of the robot marker.\n",
    "locate_robot: This function combines the above two functions, detects the markers, and returns the positions and orientation.\n",
    "\n",
    "Assumptions:\n",
    "The ArUco markers are identified with ids 1 (top-left), 2 (bottom-right), and 3 (robot).\n",
    "The markers are positioned such that the line between the top-left and bottom-right markers is parallel to the horizontal.\n",
    "The image contains exactly these three markers."
   ]
  },
  {
   "cell_type": "markdown",
   "id": "14e63da2-9103-48e9-a60f-744e293e8d6e",
   "metadata": {
    "tags": []
   },
   "source": [
    "## Import libraries"
   ]
  },
  {
   "cell_type": "code",
   "execution_count": 1,
   "id": "22bf1910-a839-4762-957c-2c14b08bc57c",
   "metadata": {},
   "outputs": [],
   "source": [
    "import cv2\n",
    "import numpy as np\n",
    "import math"
   ]
  },
  {
   "cell_type": "markdown",
   "id": "d7057e7c-7635-42ae-9a43-bfa3740815c6",
   "metadata": {
    "tags": []
   },
   "source": [
    "## Define Functions"
   ]
  },
  {
   "cell_type": "code",
   "execution_count": 2,
   "id": "500a197a-f009-4e82-a876-070c57a0ecd9",
   "metadata": {
    "tags": []
   },
   "outputs": [],
   "source": [
    "def find_aruco_markers(img):\n",
    "    # Load the dictionary that was used to generate the markers.\n",
    "    aruco_dict = cv2.aruco.Dictionary_get(cv2.aruco.DICT_6X6_250)\n",
    "    # Initialize the detector parameters using default values\n",
    "    parameters = cv2.aruco.DetectorParameters_create()\n",
    "    # Detect the markers in the image\n",
    "    corners, ids, rejectedImgPoints = cv2.aruco.detectMarkers(img, aruco_dict, parameters=parameters)\n",
    "    return corners, ids\n",
    "\n",
    "def calculate_robot_position(corners, ids):\n",
    "    # Extract corners of the two bounding box markers\n",
    "    top_left_marker = corners[np.where(ids == 1)[0][0]]\n",
    "    bottom_right_marker = corners[np.where(ids == 2)[0][0]]\n",
    "    robot_marker = corners[np.where(ids == 3)[0][0]]\n",
    "\n",
    "    # Calculate center points\n",
    "    top_left_center = np.mean(top_left_marker[0], axis=0)\n",
    "    bottom_right_center = np.mean(bottom_right_marker[0], axis=0)\n",
    "    robot_center = np.mean(robot_marker[0], axis=0)\n",
    "\n",
    "    # Calculate position of the robot relative to top left marker\n",
    "    x = robot_center[0] - top_left_center[0]\n",
    "    y = robot_center[1] - top_left_center[1]\n",
    "\n",
    "    # Calculate angle of the robot marker\n",
    "    robot_vector = robot_marker[0][1] - robot_marker[0][0]  # vector from corner 0 to corner 1\n",
    "    theta = math.atan2(robot_vector[1], robot_vector[0])\n",
    "\n",
    "    return (top_left_center, bottom_right_center, (x, y, theta))\n",
    "\n",
    "def locate_robot(img):\n",
    "    corners, ids = find_aruco_markers(img)\n",
    "    if ids is None or len(ids) < 3:\n",
    "        raise ValueError(\"Not all required markers were found in the image.\")\n",
    "    return calculate_robot_position(corners, ids)"
   ]
  },
  {
   "cell_type": "code",
   "execution_count": 3,
   "id": "bb8ac45d-3e62-4894-bf47-3a0815769ee2",
   "metadata": {
    "tags": []
   },
   "outputs": [
    {
     "ename": "AttributeError",
     "evalue": "module 'cv2.aruco' has no attribute 'Dictionary_get'",
     "output_type": "error",
     "traceback": [
      "\u001b[1;31m---------------------------------------------------------------------------\u001b[0m",
      "\u001b[1;31mAttributeError\u001b[0m                            Traceback (most recent call last)",
      "Cell \u001b[1;32mIn[3], line 4\u001b[0m\n\u001b[0;32m      2\u001b[0m \u001b[38;5;28;01mif\u001b[39;00m \u001b[38;5;18m__name__\u001b[39m \u001b[38;5;241m==\u001b[39m \u001b[38;5;124m\"\u001b[39m\u001b[38;5;124m__main__\u001b[39m\u001b[38;5;124m\"\u001b[39m:\n\u001b[0;32m      3\u001b[0m     img \u001b[38;5;241m=\u001b[39m cv2\u001b[38;5;241m.\u001b[39mimread(\u001b[38;5;124m'\u001b[39m\u001b[38;5;124mimage_with_aruco_markers.jpg\u001b[39m\u001b[38;5;124m'\u001b[39m)  \u001b[38;5;66;03m# Load your image here\u001b[39;00m\n\u001b[1;32m----> 4\u001b[0m     top_left, bottom_right, robot_position \u001b[38;5;241m=\u001b[39m locate_robot(img)\n\u001b[0;32m      5\u001b[0m     \u001b[38;5;28mprint\u001b[39m(\u001b[38;5;124m\"\u001b[39m\u001b[38;5;124mTop Left Marker Position:\u001b[39m\u001b[38;5;124m\"\u001b[39m, top_left)\n\u001b[0;32m      6\u001b[0m     \u001b[38;5;28mprint\u001b[39m(\u001b[38;5;124m\"\u001b[39m\u001b[38;5;124mBottom Right Marker Position:\u001b[39m\u001b[38;5;124m\"\u001b[39m, bottom_right)\n",
      "Cell \u001b[1;32mIn[2], line 32\u001b[0m, in \u001b[0;36mlocate_robot\u001b[1;34m(img)\u001b[0m\n\u001b[0;32m     31\u001b[0m \u001b[38;5;28;01mdef\u001b[39;00m \u001b[38;5;21mlocate_robot\u001b[39m(img):\n\u001b[1;32m---> 32\u001b[0m     corners, ids \u001b[38;5;241m=\u001b[39m find_aruco_markers(img)\n\u001b[0;32m     33\u001b[0m     \u001b[38;5;28;01mif\u001b[39;00m ids \u001b[38;5;129;01mis\u001b[39;00m \u001b[38;5;28;01mNone\u001b[39;00m \u001b[38;5;129;01mor\u001b[39;00m \u001b[38;5;28mlen\u001b[39m(ids) \u001b[38;5;241m<\u001b[39m \u001b[38;5;241m3\u001b[39m:\n\u001b[0;32m     34\u001b[0m         \u001b[38;5;28;01mraise\u001b[39;00m \u001b[38;5;167;01mValueError\u001b[39;00m(\u001b[38;5;124m\"\u001b[39m\u001b[38;5;124mNot all required markers were found in the image.\u001b[39m\u001b[38;5;124m\"\u001b[39m)\n",
      "Cell \u001b[1;32mIn[2], line 3\u001b[0m, in \u001b[0;36mfind_aruco_markers\u001b[1;34m(img)\u001b[0m\n\u001b[0;32m      1\u001b[0m \u001b[38;5;28;01mdef\u001b[39;00m \u001b[38;5;21mfind_aruco_markers\u001b[39m(img):\n\u001b[0;32m      2\u001b[0m     \u001b[38;5;66;03m# Load the dictionary that was used to generate the markers.\u001b[39;00m\n\u001b[1;32m----> 3\u001b[0m     aruco_dict \u001b[38;5;241m=\u001b[39m cv2\u001b[38;5;241m.\u001b[39maruco\u001b[38;5;241m.\u001b[39mDictionary_get(cv2\u001b[38;5;241m.\u001b[39maruco\u001b[38;5;241m.\u001b[39mDICT_6X6_250)\n\u001b[0;32m      4\u001b[0m     \u001b[38;5;66;03m# Initialize the detector parameters using default values\u001b[39;00m\n\u001b[0;32m      5\u001b[0m     parameters \u001b[38;5;241m=\u001b[39m cv2\u001b[38;5;241m.\u001b[39maruco\u001b[38;5;241m.\u001b[39mDetectorParameters_create()\n",
      "\u001b[1;31mAttributeError\u001b[0m: module 'cv2.aruco' has no attribute 'Dictionary_get'"
     ]
    }
   ],
   "source": [
    "# Example usage\n",
    "if __name__ == \"__main__\":\n",
    "    img = cv2.imread('image_with_aruco_markers.jpg')  # Load your image here\n",
    "    top_left, bottom_right, robot_position = locate_robot(img)\n",
    "    print(\"Top Left Marker Position:\", top_left)\n",
    "    print(\"Bottom Right Marker Position:\", bottom_right)\n",
    "    print(\"Robot Position (x, y, theta):\", robot_position)\n"
   ]
  }
 ],
 "metadata": {
  "kernelspec": {
   "display_name": "Python 3 (ipykernel)",
   "language": "python",
   "name": "python3"
  },
  "language_info": {
   "codemirror_mode": {
    "name": "ipython",
    "version": 3
   },
   "file_extension": ".py",
   "mimetype": "text/x-python",
   "name": "python",
   "nbconvert_exporter": "python",
   "pygments_lexer": "ipython3",
   "version": "3.11.5"
  }
 },
 "nbformat": 4,
 "nbformat_minor": 5
}
