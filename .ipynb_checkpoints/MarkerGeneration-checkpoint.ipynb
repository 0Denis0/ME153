{
 "cells": [
  {
   "cell_type": "code",
   "execution_count": 2,
   "id": "78a7fea5-1333-41f1-9d11-97e6a2dc881c",
   "metadata": {
    "tags": []
   },
   "outputs": [
    {
     "name": "stdout",
     "output_type": "stream",
     "text": [
      "ArUCo type 'DICT_5X5_250' with ID '153'\n"
     ]
    }
   ],
   "source": [
    "import numpy as np\n",
    "import cv2\n",
    "\n",
    "ARUCO_DICT = {\n",
    "\t\"DICT_4X4_50\": cv2.aruco.DICT_4X4_50,\n",
    "\t\"DICT_4X4_100\": cv2.aruco.DICT_4X4_100,\n",
    "\t\"DICT_4X4_250\": cv2.aruco.DICT_4X4_250,\n",
    "\t\"DICT_4X4_1000\": cv2.aruco.DICT_4X4_1000,\n",
    "\t\"DICT_5X5_50\": cv2.aruco.DICT_5X5_50,\n",
    "\t\"DICT_5X5_100\": cv2.aruco.DICT_5X5_100,\n",
    "\t\"DICT_5X5_250\": cv2.aruco.DICT_5X5_250,\n",
    "\t\"DICT_5X5_1000\": cv2.aruco.DICT_5X5_1000\n",
    "}\n",
    "\n",
    "\n",
    "aruco_type = \"DICT_5X5_250\"\n",
    "id = 153\n",
    "\n",
    "arucoDict = cv2.aruco.Dictionary_get(ARUCO_DICT[aruco_type])\n",
    "\n",
    "print(\"ArUCo type '{}' with ID '{}'\".format(aruco_type, id))\n",
    "tag_size = 250\n",
    "tag = np.zeros((tag_size, tag_size, 1), dtype=\"uint8\")\n",
    "cv2.aruco.drawMarker(arucoDict, id, tag_size, tag, 1)\n",
    "\n",
    "# Save the tag generated\n",
    "tag_name = \"arucoMarkers/\" + aruco_type + \"_\" + str(id) + \".png\"\n",
    "cv2.imwrite(tag_name, tag)\n",
    "cv2.imshow(\"ArUCo Tag\", tag)\n",
    "\n",
    "cv2.waitKey(0)\n",
    "\n",
    "cv2.destroyAllWindows()"
   ]
  },
  {
   "cell_type": "code",
   "execution_count": null,
   "id": "8211a81a-c1ba-4581-989b-30fe94c0e07f",
   "metadata": {},
   "outputs": [],
   "source": []
  }
 ],
 "metadata": {
  "kernelspec": {
   "display_name": "Python 3 (ipykernel)",
   "language": "python",
   "name": "python3"
  },
  "language_info": {
   "codemirror_mode": {
    "name": "ipython",
    "version": 3
   },
   "file_extension": ".py",
   "mimetype": "text/x-python",
   "name": "python",
   "nbconvert_exporter": "python",
   "pygments_lexer": "ipython3",
   "version": "3.9.19"
  }
 },
 "nbformat": 4,
 "nbformat_minor": 5
}
